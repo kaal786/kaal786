{
  "nbformat": 4,
  "nbformat_minor": 0,
  "metadata": {
    "colab": {
      "name": "version1_.ipynb",
      "provenance": [],
      "mount_file_id": "1MrL3PRgjHuYAZG_Uig0SLCjM6nyI3cLd",
      "authorship_tag": "ABX9TyOxo+uIgmQF4d5W4EXJsguV",
      "include_colab_link": true
    },
    "kernelspec": {
      "name": "python3",
      "display_name": "Python 3"
    },
    "language_info": {
      "name": "python"
    }
  },
  "cells": [
    {
      "cell_type": "markdown",
      "metadata": {
        "id": "view-in-github",
        "colab_type": "text"
      },
      "source": [
        "<a href=\"https://colab.research.google.com/github/kaal786/kaal786/blob/main/version1_.ipynb\" target=\"_parent\"><img src=\"https://colab.research.google.com/assets/colab-badge.svg\" alt=\"Open In Colab\"/></a>"
      ]
    },
    {
      "cell_type": "markdown",
      "source": [
        "###Get Started"
      ],
      "metadata": {
        "id": "0_24PP-syc1O"
      }
    },
    {
      "cell_type": "code",
      "execution_count": null,
      "metadata": {
        "id": "oNVRQuRVmoyo"
      },
      "outputs": [],
      "source": [
        "import pandas as pd\n",
        "import numpy as np\n",
        "import pickle\n",
        "import itertools\n",
        "import gc\n",
        "import math\n",
        "import matplotlib.pyplot as plt\n",
        "import dateutil.easter\n",
        "from matplotlib.ticker import MaxNLocator, FormatStrFormatter, PercentFormatter\n",
        "from datetime import datetime, date\n",
        "from sklearn.pipeline import make_pipeline\n",
        "from sklearn.model_selection import TimeSeriesSplit\n",
        "from sklearn.preprocessing import StandardScaler, QuantileTransformer, LabelEncoder, minmax_scale\n",
        "from sklearn.metrics import accuracy_score, confusion_matrix, classification_report\n",
        "from sklearn.linear_model import LinearRegression, HuberRegressor, SGDRegressor\n",
        "from sklearn.svm import SVR, LinearSVR"
      ]
    },
    {
      "cell_type": "code",
      "source": [
        "original_train_df=pd.read_csv('/content/drive/MyDrive/Colab Notebooks/Kaggle_/TimeSeries_/kaggle_tabular_2022/data/train.csv',index_col='row_id', parse_dates=['date'])\n",
        "original_test_df=pd.read_csv('/content/drive/MyDrive/Colab Notebooks/Kaggle_/TimeSeries_/kaggle_tabular_2022/data/test.csv',index_col='row_id',parse_dates=['date'])\n",
        "\n"
      ],
      "metadata": {
        "id": "fNBR3URkq29j"
      },
      "execution_count": null,
      "outputs": []
    },
    {
      "cell_type": "code",
      "source": [
        "def smape_loss(y_true, y_pred):\n",
        "    \"\"\"SMAPE Loss to be used with TensorFlow\"\"\"\n",
        "    return np.abs(y_true - y_pred) / (y_true + np.abs(y_pred)) * 200"
      ],
      "metadata": {
        "id": "qjBiYMoRuL0G"
      },
      "execution_count": null,
      "outputs": []
    },
    {
      "cell_type": "markdown",
      "source": [
        "###Feature Engineering"
      ],
      "metadata": {
        "id": "uw4On9TluXfr"
      }
    },
    {
      "cell_type": "code",
      "source": [
        "def engineer(df):\n",
        "    new_df = pd.DataFrame({'daynum': (df.date - datetime(2015,1,1)).dt.days,\n",
        "                           'dayofyear': df.date.dt.dayofyear,\n",
        "                           'wd1': df.date.dt.weekday == 1,\n",
        "                           'wd2': df.date.dt.weekday == 2,\n",
        "                           'wd3': df.date.dt.weekday == 3,\n",
        "                           'wd4': df.date.dt.weekday == 4,\n",
        "                           'wd5': df.date.dt.weekday == 5,\n",
        "                           'wd6': df.date.dt.weekday == 6,\n",
        "                           #'dec26': (df.date.dt.month == 12) & (df.date.dt.day == 29),\n",
        "                           'dec27': (df.date.dt.month == 12) & (df.date.dt.day == 29),\n",
        "                           'dec28': (df.date.dt.month == 12) & (df.date.dt.day == 29),\n",
        "                           'dec29': (df.date.dt.month == 12) & (df.date.dt.day == 29),\n",
        "                           'dec30': (df.date.dt.month == 12) & (df.date.dt.day == 30),\n",
        "                           #'dec31': (df.date.dt.month == 12) & (df.date.dt.day == 30),\n",
        "                           #'yearend': df.date.dt.dayofyear >= 360,\n",
        "                           #'dec30': (df.date.dt.month == 12) & (df.date.dt.day == 30),\n",
        "                           'easter': 0,\n",
        "                           'easter1': 0,\n",
        "                           'easter2': 0,\n",
        "                           'easter3': 0,\n",
        "                          })\n",
        "    \n",
        "    new_df['daynum2'] = np.log(new_df.daynum+80)\n",
        "\n",
        "    # One-hot encoding (no need to encode the last categories)\n",
        "    for country in ['Finland', 'Norway']:\n",
        "        new_df[country] = df.country == country\n",
        "    new_df['KaggleRama'] = df.store == 'KaggleRama'\n",
        "    for product in ['Kaggle Mug', 'Kaggle Sticker']:\n",
        "        new_df[product] = df['product'] == product\n",
        "        \n",
        "        \n",
        "    # Seasonal variations (Fourier series)\n",
        "    for k in range(1, 100):\n",
        "        new_df[f'sin{k}'] = np.sin(new_df.dayofyear / 365 * 2 * math.pi * k)\n",
        "        new_df[f'cos{k}'] = np.cos(new_df.dayofyear / 365 * 2 * math.pi * k)\n",
        "        new_df[f'mug_sin{k}'] = new_df[f'sin{k}'] * new_df['Kaggle Mug']\n",
        "        new_df[f'mug_cos{k}'] = new_df[f'cos{k}'] * new_df['Kaggle Mug']\n",
        "        new_df[f'sticker_sin{k}'] = new_df[f'sin{k}'] * new_df['Kaggle Sticker']\n",
        "        new_df[f'sticker_cos{k}'] = new_df[f'cos{k}'] * new_df['Kaggle Sticker']\n",
        "\n",
        "    return new_df"
      ],
      "metadata": {
        "id": "tN70cWmyucuq"
      },
      "execution_count": null,
      "outputs": []
    },
    {
      "cell_type": "code",
      "source": [
        "train_df = engineer(original_train_df)\n",
        "train_df['date'] = original_train_df.date\n",
        "train_df['num_sold'] = original_train_df.num_sold.astype(np.float32)\n",
        "test_df = engineer(original_test_df)"
      ],
      "metadata": {
        "id": "O-AbzoABzs87"
      },
      "execution_count": null,
      "outputs": []
    },
    {
      "cell_type": "code",
      "source": [
        "features = test_df.columns\n",
        "for df in [train_df, test_df]:\n",
        "    df[features] = df[features].astype(np.float32)\n",
        "print(list(features))"
      ],
      "metadata": {
        "colab": {
          "base_uri": "https://localhost:8080/"
        },
        "id": "swpKK0of3jRa",
        "outputId": "8be371ba-a58f-4ef2-8b70-1808ba84628a"
      },
      "execution_count": null,
      "outputs": [
        {
          "output_type": "stream",
          "name": "stdout",
          "text": [
            "['daynum', 'dayofyear', 'wd1', 'wd2', 'wd3', 'wd4', 'wd5', 'wd6', 'dec27', 'dec28', 'dec29', 'dec30', 'easter', 'easter1', 'easter2', 'easter3', 'daynum2', 'Finland', 'Norway', 'KaggleRama', 'Kaggle Mug', 'Kaggle Sticker', 'sin1', 'cos1', 'mug_sin1', 'mug_cos1', 'sticker_sin1', 'sticker_cos1', 'sin2', 'cos2', 'mug_sin2', 'mug_cos2', 'sticker_sin2', 'sticker_cos2', 'sin3', 'cos3', 'mug_sin3', 'mug_cos3', 'sticker_sin3', 'sticker_cos3', 'sin4', 'cos4', 'mug_sin4', 'mug_cos4', 'sticker_sin4', 'sticker_cos4', 'sin5', 'cos5', 'mug_sin5', 'mug_cos5', 'sticker_sin5', 'sticker_cos5', 'sin6', 'cos6', 'mug_sin6', 'mug_cos6', 'sticker_sin6', 'sticker_cos6', 'sin7', 'cos7', 'mug_sin7', 'mug_cos7', 'sticker_sin7', 'sticker_cos7', 'sin8', 'cos8', 'mug_sin8', 'mug_cos8', 'sticker_sin8', 'sticker_cos8', 'sin9', 'cos9', 'mug_sin9', 'mug_cos9', 'sticker_sin9', 'sticker_cos9', 'sin10', 'cos10', 'mug_sin10', 'mug_cos10', 'sticker_sin10', 'sticker_cos10', 'sin11', 'cos11', 'mug_sin11', 'mug_cos11', 'sticker_sin11', 'sticker_cos11', 'sin12', 'cos12', 'mug_sin12', 'mug_cos12', 'sticker_sin12', 'sticker_cos12', 'sin13', 'cos13', 'mug_sin13', 'mug_cos13', 'sticker_sin13', 'sticker_cos13', 'sin14', 'cos14', 'mug_sin14', 'mug_cos14', 'sticker_sin14', 'sticker_cos14', 'sin15', 'cos15', 'mug_sin15', 'mug_cos15', 'sticker_sin15', 'sticker_cos15', 'sin16', 'cos16', 'mug_sin16', 'mug_cos16', 'sticker_sin16', 'sticker_cos16', 'sin17', 'cos17', 'mug_sin17', 'mug_cos17', 'sticker_sin17', 'sticker_cos17', 'sin18', 'cos18', 'mug_sin18', 'mug_cos18', 'sticker_sin18', 'sticker_cos18', 'sin19', 'cos19', 'mug_sin19', 'mug_cos19', 'sticker_sin19', 'sticker_cos19', 'sin20', 'cos20', 'mug_sin20', 'mug_cos20', 'sticker_sin20', 'sticker_cos20', 'sin21', 'cos21', 'mug_sin21', 'mug_cos21', 'sticker_sin21', 'sticker_cos21', 'sin22', 'cos22', 'mug_sin22', 'mug_cos22', 'sticker_sin22', 'sticker_cos22', 'sin23', 'cos23', 'mug_sin23', 'mug_cos23', 'sticker_sin23', 'sticker_cos23', 'sin24', 'cos24', 'mug_sin24', 'mug_cos24', 'sticker_sin24', 'sticker_cos24', 'sin25', 'cos25', 'mug_sin25', 'mug_cos25', 'sticker_sin25', 'sticker_cos25', 'sin26', 'cos26', 'mug_sin26', 'mug_cos26', 'sticker_sin26', 'sticker_cos26', 'sin27', 'cos27', 'mug_sin27', 'mug_cos27', 'sticker_sin27', 'sticker_cos27', 'sin28', 'cos28', 'mug_sin28', 'mug_cos28', 'sticker_sin28', 'sticker_cos28', 'sin29', 'cos29', 'mug_sin29', 'mug_cos29', 'sticker_sin29', 'sticker_cos29', 'sin30', 'cos30', 'mug_sin30', 'mug_cos30', 'sticker_sin30', 'sticker_cos30', 'sin31', 'cos31', 'mug_sin31', 'mug_cos31', 'sticker_sin31', 'sticker_cos31', 'sin32', 'cos32', 'mug_sin32', 'mug_cos32', 'sticker_sin32', 'sticker_cos32', 'sin33', 'cos33', 'mug_sin33', 'mug_cos33', 'sticker_sin33', 'sticker_cos33', 'sin34', 'cos34', 'mug_sin34', 'mug_cos34', 'sticker_sin34', 'sticker_cos34', 'sin35', 'cos35', 'mug_sin35', 'mug_cos35', 'sticker_sin35', 'sticker_cos35', 'sin36', 'cos36', 'mug_sin36', 'mug_cos36', 'sticker_sin36', 'sticker_cos36', 'sin37', 'cos37', 'mug_sin37', 'mug_cos37', 'sticker_sin37', 'sticker_cos37', 'sin38', 'cos38', 'mug_sin38', 'mug_cos38', 'sticker_sin38', 'sticker_cos38', 'sin39', 'cos39', 'mug_sin39', 'mug_cos39', 'sticker_sin39', 'sticker_cos39', 'sin40', 'cos40', 'mug_sin40', 'mug_cos40', 'sticker_sin40', 'sticker_cos40', 'sin41', 'cos41', 'mug_sin41', 'mug_cos41', 'sticker_sin41', 'sticker_cos41', 'sin42', 'cos42', 'mug_sin42', 'mug_cos42', 'sticker_sin42', 'sticker_cos42', 'sin43', 'cos43', 'mug_sin43', 'mug_cos43', 'sticker_sin43', 'sticker_cos43', 'sin44', 'cos44', 'mug_sin44', 'mug_cos44', 'sticker_sin44', 'sticker_cos44', 'sin45', 'cos45', 'mug_sin45', 'mug_cos45', 'sticker_sin45', 'sticker_cos45', 'sin46', 'cos46', 'mug_sin46', 'mug_cos46', 'sticker_sin46', 'sticker_cos46', 'sin47', 'cos47', 'mug_sin47', 'mug_cos47', 'sticker_sin47', 'sticker_cos47', 'sin48', 'cos48', 'mug_sin48', 'mug_cos48', 'sticker_sin48', 'sticker_cos48', 'sin49', 'cos49', 'mug_sin49', 'mug_cos49', 'sticker_sin49', 'sticker_cos49', 'sin50', 'cos50', 'mug_sin50', 'mug_cos50', 'sticker_sin50', 'sticker_cos50', 'sin51', 'cos51', 'mug_sin51', 'mug_cos51', 'sticker_sin51', 'sticker_cos51', 'sin52', 'cos52', 'mug_sin52', 'mug_cos52', 'sticker_sin52', 'sticker_cos52', 'sin53', 'cos53', 'mug_sin53', 'mug_cos53', 'sticker_sin53', 'sticker_cos53', 'sin54', 'cos54', 'mug_sin54', 'mug_cos54', 'sticker_sin54', 'sticker_cos54', 'sin55', 'cos55', 'mug_sin55', 'mug_cos55', 'sticker_sin55', 'sticker_cos55', 'sin56', 'cos56', 'mug_sin56', 'mug_cos56', 'sticker_sin56', 'sticker_cos56', 'sin57', 'cos57', 'mug_sin57', 'mug_cos57', 'sticker_sin57', 'sticker_cos57', 'sin58', 'cos58', 'mug_sin58', 'mug_cos58', 'sticker_sin58', 'sticker_cos58', 'sin59', 'cos59', 'mug_sin59', 'mug_cos59', 'sticker_sin59', 'sticker_cos59', 'sin60', 'cos60', 'mug_sin60', 'mug_cos60', 'sticker_sin60', 'sticker_cos60', 'sin61', 'cos61', 'mug_sin61', 'mug_cos61', 'sticker_sin61', 'sticker_cos61', 'sin62', 'cos62', 'mug_sin62', 'mug_cos62', 'sticker_sin62', 'sticker_cos62', 'sin63', 'cos63', 'mug_sin63', 'mug_cos63', 'sticker_sin63', 'sticker_cos63', 'sin64', 'cos64', 'mug_sin64', 'mug_cos64', 'sticker_sin64', 'sticker_cos64', 'sin65', 'cos65', 'mug_sin65', 'mug_cos65', 'sticker_sin65', 'sticker_cos65', 'sin66', 'cos66', 'mug_sin66', 'mug_cos66', 'sticker_sin66', 'sticker_cos66', 'sin67', 'cos67', 'mug_sin67', 'mug_cos67', 'sticker_sin67', 'sticker_cos67', 'sin68', 'cos68', 'mug_sin68', 'mug_cos68', 'sticker_sin68', 'sticker_cos68', 'sin69', 'cos69', 'mug_sin69', 'mug_cos69', 'sticker_sin69', 'sticker_cos69', 'sin70', 'cos70', 'mug_sin70', 'mug_cos70', 'sticker_sin70', 'sticker_cos70', 'sin71', 'cos71', 'mug_sin71', 'mug_cos71', 'sticker_sin71', 'sticker_cos71', 'sin72', 'cos72', 'mug_sin72', 'mug_cos72', 'sticker_sin72', 'sticker_cos72', 'sin73', 'cos73', 'mug_sin73', 'mug_cos73', 'sticker_sin73', 'sticker_cos73', 'sin74', 'cos74', 'mug_sin74', 'mug_cos74', 'sticker_sin74', 'sticker_cos74', 'sin75', 'cos75', 'mug_sin75', 'mug_cos75', 'sticker_sin75', 'sticker_cos75', 'sin76', 'cos76', 'mug_sin76', 'mug_cos76', 'sticker_sin76', 'sticker_cos76', 'sin77', 'cos77', 'mug_sin77', 'mug_cos77', 'sticker_sin77', 'sticker_cos77', 'sin78', 'cos78', 'mug_sin78', 'mug_cos78', 'sticker_sin78', 'sticker_cos78', 'sin79', 'cos79', 'mug_sin79', 'mug_cos79', 'sticker_sin79', 'sticker_cos79', 'sin80', 'cos80', 'mug_sin80', 'mug_cos80', 'sticker_sin80', 'sticker_cos80', 'sin81', 'cos81', 'mug_sin81', 'mug_cos81', 'sticker_sin81', 'sticker_cos81', 'sin82', 'cos82', 'mug_sin82', 'mug_cos82', 'sticker_sin82', 'sticker_cos82', 'sin83', 'cos83', 'mug_sin83', 'mug_cos83', 'sticker_sin83', 'sticker_cos83', 'sin84', 'cos84', 'mug_sin84', 'mug_cos84', 'sticker_sin84', 'sticker_cos84', 'sin85', 'cos85', 'mug_sin85', 'mug_cos85', 'sticker_sin85', 'sticker_cos85', 'sin86', 'cos86', 'mug_sin86', 'mug_cos86', 'sticker_sin86', 'sticker_cos86', 'sin87', 'cos87', 'mug_sin87', 'mug_cos87', 'sticker_sin87', 'sticker_cos87', 'sin88', 'cos88', 'mug_sin88', 'mug_cos88', 'sticker_sin88', 'sticker_cos88', 'sin89', 'cos89', 'mug_sin89', 'mug_cos89', 'sticker_sin89', 'sticker_cos89', 'sin90', 'cos90', 'mug_sin90', 'mug_cos90', 'sticker_sin90', 'sticker_cos90', 'sin91', 'cos91', 'mug_sin91', 'mug_cos91', 'sticker_sin91', 'sticker_cos91', 'sin92', 'cos92', 'mug_sin92', 'mug_cos92', 'sticker_sin92', 'sticker_cos92', 'sin93', 'cos93', 'mug_sin93', 'mug_cos93', 'sticker_sin93', 'sticker_cos93', 'sin94', 'cos94', 'mug_sin94', 'mug_cos94', 'sticker_sin94', 'sticker_cos94', 'sin95', 'cos95', 'mug_sin95', 'mug_cos95', 'sticker_sin95', 'sticker_cos95', 'sin96', 'cos96', 'mug_sin96', 'mug_cos96', 'sticker_sin96', 'sticker_cos96', 'sin97', 'cos97', 'mug_sin97', 'mug_cos97', 'sticker_sin97', 'sticker_cos97', 'sin98', 'cos98', 'mug_sin98', 'mug_cos98', 'sticker_sin98', 'sticker_cos98', 'sin99', 'cos99', 'mug_sin99', 'mug_cos99', 'sticker_sin99', 'sticker_cos99']\n"
          ]
        }
      ]
    },
    {
      "cell_type": "markdown",
      "source": [
        "###Training"
      ],
      "metadata": {
        "id": "22rxW8eN5EZQ"
      }
    },
    {
      "cell_type": "code",
      "source": [
        "def fit_model(X_tr, X_va=None):\n",
        "    \"\"\"Scale the data, fit a model, plot the training history and validate the model\"\"\"\n",
        "    X_tr_f = X_tr[features]\n",
        "    preproc = StandardScaler()\n",
        "    X_tr_f = preproc.fit_transform(X_tr_f)\n",
        "    y_tr = X_tr.num_sold.values.reshape(-1, 1)\n",
        "    \n",
        "    validation_data = None\n",
        "\n",
        "    if X_va is not None:\n",
        "        X_va_f = X_va[features]\n",
        "        X_va_f = preproc.transform(X_va_f)\n",
        "        y_va = X_va.num_sold.values.reshape(-1, 1)\n",
        "        validation_data = (X_va_f, y_va)\n",
        "\n",
        "    # Train and save the model\n",
        "    model = HuberRegressor(epsilon=1.35) # 6.27316 5.62331 (1.35) ******************\n",
        "    #model = LinearRegression() # 6.31480 5.73797\n",
        "    model.fit(X_tr_f, np.log(y_tr))\n",
        "\n",
        "    if X_va is not None:\n",
        "        # Inference for validation after last epoch of fold\n",
        "        y_va_pred = np.exp(model.predict(X_va_f)).reshape(-1, 1)\n",
        "        print(y_va_pred.shape, oof_list[run][val_idx].shape)\n",
        "        oof_list[run][val_idx] = y_va_pred\n",
        "\n",
        "        # Evaluation\n",
        "        smape = np.mean(smape_loss(y_va, y_va_pred))\n",
        "        smape_q1 = np.mean(smape_loss(y_va, y_va_pred)[(X_va.date.dt.month <= 3).values])\n",
        "        score_list.append((smape, datetime.now() - start_time))\n",
        "        print(f\"Fold {run}.{fold} | {str(datetime.now() - start_time)[-12:-7]}\"\n",
        "              f\" | SMAPE: {smape:.5f} {smape_q1:.5f}\")\n",
        "        \n",
        "        # Plot y_true vs. y_pred\n",
        "        # Everything to the right of the black line is an outlier prediction which will be treated in a future version of the notebook\n",
        "        plt.figure(figsize=(10, 10))\n",
        "        plt.scatter(y_va, y_va_pred, s=1, color='r')\n",
        "        plt.plot([0, plt.xlim()[1]], [0, plt.xlim()[1]], '--', color='k')\n",
        "        if OUTLIERS != None:\n",
        "            plt.plot([OUTLIERS, OUTLIERS+plt.ylim()[1]], [0, plt.ylim()[1]], color='k', lw=1)\n",
        "        plt.gca().set_aspect('equal')\n",
        "        plt.xlabel('y_true')\n",
        "        plt.ylabel('y_pred')\n",
        "        plt.title('OOF Predictions')\n",
        "        plt.show()\n",
        "\n",
        "        # Show the outliers among the predictions: Easter week, Pentecost week, last week of the year\n",
        "        if OUTLIERS != None:\n",
        "            print(\"Outlier predictions\")\n",
        "            print(original_train_df.iloc[val_idx][(y_va - y_va_pred > OUTLIERS).ravel()])\n",
        "            #print(\"Outlier predictions\")\n",
        "            #print(X_va[(y_va_pred < 50).ravel()])\n",
        "        \n",
        "    return preproc, model\n"
      ],
      "metadata": {
        "id": "wTRRS7P145hS"
      },
      "execution_count": null,
      "outputs": []
    },
    {
      "cell_type": "code",
      "source": [
        "# Make the results reproducible\n",
        "np.random.seed(202100)"
      ],
      "metadata": {
        "id": "aZkwR6vq6a0H"
      },
      "execution_count": null,
      "outputs": []
    },
    {
      "cell_type": "code",
      "source": [
        "#%%time\n",
        "RUNS = 1 # should be 1. increase the number of runs only if you want see how the result depends on the random seed\n",
        "INFERENCE = True\n",
        "OUTLIERS = None\n",
        "\n",
        "total_start_time = datetime.now()\n",
        "score_list, test_pred_list, history_list = [], [], []\n",
        "oof_list = [np.full((len(train_df), 1), -1.0, dtype='float32') for run in range(RUNS)]\n",
        "print(len(oof_list))\n",
        "for run in range(RUNS):\n",
        "    fold = 0\n",
        "    train_idx = np.arange(len(train_df))[train_df.date < datetime(2018, 1, 1)]\n",
        "    val_idx = np.arange(len(train_df))[train_df.date > datetime(2018, 1, 1)]\n",
        "    print(f\"Fold {run}.{fold}\")\n",
        "    start_time = datetime.now()\n",
        "    X_tr = train_df.iloc[train_idx]\n",
        "    X_va = train_df.iloc[val_idx]\n",
        "    \n",
        "    preproc, model = fit_model(X_tr, X_va)\n",
        "\n",
        "if INFERENCE:\n",
        "    fold = 999\n",
        "    train_idx = np.arange(len(train_df))\n",
        "    X_tr = train_df.iloc[train_idx]\n",
        "    \n",
        "    preproc, model = fit_model(X_tr, None)\n",
        "\n",
        "    # Inference for test\n",
        "    test_pred_list.append(np.exp(model.predict(preproc.transform(test_df[features]))))\n",
        "\n",
        "# Save all oof and test predictions to later determine ensemble weights\n",
        "#with open('oof_list.pickle', 'wb') as handle: pickle.dump(oof_list, handle)\n",
        "#with open('test_pred_list.pickle', 'wb') as handle: pickle.dump(test_pred_list, handle)\n",
        "    \n",
        "total_time = datetime.now() - total_start_time"
      ],
      "metadata": {
        "colab": {
          "base_uri": "https://localhost:8080/",
          "height": 781
        },
        "id": "XDENigoo6bvP",
        "outputId": "630674a6-6b7e-4555-c91d-a8a2e25e2ea4"
      },
      "execution_count": null,
      "outputs": [
        {
          "output_type": "stream",
          "name": "stdout",
          "text": [
            "1\n",
            "Fold 0.0\n"
          ]
        },
        {
          "output_type": "stream",
          "name": "stderr",
          "text": [
            "/usr/local/lib/python3.7/dist-packages/sklearn/utils/validation.py:993: DataConversionWarning: A column-vector y was passed when a 1d array was expected. Please change the shape of y to (n_samples, ), for example using ravel().\n",
            "  y = column_or_1d(y, warn=True)\n"
          ]
        },
        {
          "output_type": "stream",
          "name": "stdout",
          "text": [
            "(6552, 1) (6552, 1)\n",
            "Fold 0.0 | 00:14 | SMAPE: 6.27313 5.62328\n"
          ]
        },
        {
          "output_type": "display_data",
          "data": {
            "image/png": "[encoded data removed]",
            "text/plain": [
              "<Figure size 720x720 with 1 Axes>"
            ]
          },
          "metadata": {
            "needs_background": "light"
          }
        },
        {
          "output_type": "stream",
          "name": "stderr",
          "text": [
            "/usr/local/lib/python3.7/dist-packages/sklearn/utils/validation.py:993: DataConversionWarning: A column-vector y was passed when a 1d array was expected. Please change the shape of y to (n_samples, ), for example using ravel().\n",
            "  y = column_or_1d(y, warn=True)\n"
          ]
        }
      ]
    },
    {
      "cell_type": "code",
      "source": [
        "if len(test_pred_list) > 0:\n",
        "    # Create the submission file\n",
        "    # sub = original_test_df[['row_id']].copy()\n",
        "    sub=pd.DataFrame()\n",
        "    sub['row_id']=original_test_df.index\n",
        "    sub['num_sold'] = sum(test_pred_list) / len(test_pred_list)\n",
        "    sub.to_csv('submission.csv', index=False)\n",
        "\n",
        "    # Plot the distribution of the test predictions\n",
        "    plt.figure(figsize=(16,3))\n",
        "    plt.hist(train_df['num_sold'], bins=np.linspace(0, 3000, 201), density=True, label='Training')\n",
        "    plt.hist(sub['num_sold'], bins=np.linspace(0, 3000, 201), density=True, rwidth=0.5, label='Test predictions')\n",
        "    #plt.xticks(ticks=range(1, 8), labels=[f\"{i}\\n{(sub['Cover_Type'] == i).mean():.5f}\" for i in range(1, 8)])\n",
        "    plt.xlabel('num_sold')\n",
        "    plt.ylabel('Frequency')\n",
        "    #plt.gca().yaxis.set_major_formatter(PercentFormatter(xmax=1))\n",
        "    plt.legend()\n",
        "    plt.show()"
      ],
      "metadata": {
        "colab": {
          "base_uri": "https://localhost:8080/",
          "height": 221
        },
        "id": "lAaa_Y0s6oLu",
        "outputId": "0194f437-4d61-44c9-f8d4-4e928c180bdb"
      },
      "execution_count": null,
      "outputs": [
        {
          "output_type": "display_data",
          "data": {
            "image/png": "[encoded data removed]",
            "text/plain": [
              "<Figure size 1152x216 with 1 Axes>"
            ]
          },
          "metadata": {
            "needs_background": "light"
          }
        }
      ]
    },
    {
      "cell_type": "code",
      "source": [
        ""
      ],
      "metadata": {
        "id": "JnHIt5GM9byr"
      },
      "execution_count": null,
      "outputs": []
    }
  ]
}